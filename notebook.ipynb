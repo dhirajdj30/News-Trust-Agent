{
 "cells": [
  {
   "cell_type": "code",
   "execution_count": 2,
   "id": "d72bfb1d",
   "metadata": {},
   "outputs": [
    {
     "name": "stdout",
     "output_type": "stream",
     "text": [
      "[(37, 'Japans Nikkei seen hitting new highs as yen, bonds sputter on Takaichi victory', \"JAPAN-POLITICS/MARKETS:Japan's Nikkei seen hitting new highs as yen, bonds sputter on Takaichi victory\", 'https://www.livemint.com/market/stock-market-news/japans-nikkei-seen-hitting-new-highs-as-yen-bonds-sputter-on-takaichi-victory-11759575239816.html', datetime.datetime(2025, 10, 4, 16, 23, 59)), (38, 'JioBlackrock Flexi Cap Fund NFO: Subscription ends soon. Review, other details about AI-human managed flexi-cap fund', 'JioBlackrock Flexi Cap Fund NFO subscription requires a minimum investment of  ₹500', 'https://www.livemint.com/market/jioblackrock-flexi-cap-fund-nfo-subscription-ends-soon-review-other-details-about-ai-human-managed-flexi-cap-fund-11759571777383.html', datetime.datetime(2025, 10, 4, 15, 44, 56)), (39, 'LG Electronics IPO opens soon. GMP, date, valuation, review, other details about upcoming IPO', 'LG Electronics IPO GMP today: According to market observers, shares of LG Electronics India Ltd are available at a premium of  ₹146 in the grey market today', 'https://www.livemint.com/market/ipo/lg-electronics-ipo-opens-soon-gmp-date-valuation-review-other-details-about-upcoming-ipo-11759567971205.html', datetime.datetime(2025, 10, 4, 14, 34, 7)), (40, 'Stocks to buy under  ₹200: Mehul Kothari of Anand Rathi recommends three shares to buy or sell', 'Stocks to buy under  ₹200: Mehul Kothari of Anand Rathi recommends three shares to buy or sell — SPIC, MRPL, and HFCL', 'https://www.livemint.com/market/stock-market-news/stocks-to-buy-under-rs-200-mehul-kothari-of-anand-rathi-recommends-three-shares-to-buy-or-sell-11759565607509.html', datetime.datetime(2025, 10, 4, 13, 51, 15)), (41, 'Buy or sell: Sumeet Bagadia recommends three stocks to buy on Monday — 6 October 2025', 'Buy or sell: Sumeet Bagadia recommends three stocks to buy on Monday — Tata Steel, NBCC, BHEL', 'https://www.livemint.com/market/stock-market-news/buy-or-sell-sumeet-bagadia-recommends-three-stocks-to-buy-on-monday-6-october-2025-11759560096147.html', datetime.datetime(2025, 10, 4, 12, 25, 5)), (42, 'Stock market this week: Top gainers and losers that moved Nifty and Sensex', 'Stock market: A comprehensive recap of the week ending 3 October 2025, highlighting the biggest market movers, top news events, and key performance trends that shaped investor sentiment.', 'https://www.livemint.com/market/stock-market-news/weekend-wrap-october-3-stock-market-bse-nse-top-gainers-and-losers-mutual-funds-ipo-nfo-nifty50-elss-11759484827306.html', datetime.datetime(2025, 10, 4, 11, 45, 31)), (43, 'Gold prices rally for the seventh straight week on US shutdown, US Fed rate cut buzz. Will the rally continue?', 'Gold rate today: According to experts, the ongoing US government shutdown has driven gold prices higher for seven weeks, finishing at  ₹1,18,100 per 10 grams', 'https://www.livemint.com/market/commodities/gold-prices-rally-for-the-seventh-straight-week-on-us-shutdown-us-fed-rate-cut-buzz-will-the-rally-continue-11759553882949.html', datetime.datetime(2025, 10, 4, 10, 42, 15)), (44, 'Canara Robeco IPO: Expected date, price, DRHP, other details that you may like to know', 'Canara Robeco IPO date: According to experts, in best case scenario, the public issue may open in December 2025', 'https://www.livemint.com/market/ipo/canara-robeco-ipo-expected-date-price-drhp-other-details-that-you-may-like-to-know-11759546333641.html', datetime.datetime(2025, 10, 4, 9, 24, 15)), (45, 'Tata Capital IPO opens on Monday. GMP, price, date, review, other details. Apply or not?', 'Tata Capital IPO GMP today: According to market observers, shares of the company are available at a premium of  ₹20 in the grey market today', 'https://www.livemint.com/market/ipo/tata-capital-ipo-opens-on-monday-gmp-price-date-review-other-details-apply-or-not-11759542189173.html', datetime.datetime(2025, 10, 4, 7, 34, 43)), (46, 'Om Freight Forwarders IPO allotment date in focus. GMP, how to check application status online; step-by-step guide', \"Om Freight Forwarders' IPO allotment will be finalized on October 06, with a subscription rate of 3.88 times. Retail investors may receive shares on a proportional basis, and refunds will begin on October 07, 2025. The IPO lists on NSE SME on October 08.\", 'https://www.livemint.com/market/ipo/om-freight-forwarders-ipo-allotment-date-in-focus-gmp-how-to-check-application-status-online-step-by-step-guide-11759501104645.html', datetime.datetime(2025, 10, 4, 6, 39, 58)), (47, 'Advance Agrolife IPO allotment date in focus: Latest GMP, steps to check share allotment status online', \"Advance Agrolife IPO allotment will be finalized on October 6. Investors can check their allotment status on Kfin Technologies Ltd's website. The IPO subscription saw high demand, with non-institutional investors at 175.30 times. Refunds for non-alloted shares begin October 7.\", 'https://www.livemint.com/market/ipo/advance-agrolife-ipo-gmp-advance-agrolife-ipo-allotment-advance-agrolife-ipo-subscription-status-advance-agrolife-ipo-11759507473370.html', datetime.datetime(2025, 10, 4, 6, 27, 54)), (48, 'IT Sector Q2 Results 2025 Preview: Trump tariffs, weak macro to weigh on earnings; midcap IT firms to outperform', 'IT Sector Q2 Results Preview: IT sector Q2 results are expected to stay muted after Q1 was impacted by tariff-related uncertainty. The broader macro backdrop remains weak, further weighed down by the recent H1B visa fee hike announced by US President Donald Trump.', 'https://www.livemint.com/market/stock-market-news/it-sector-q2-results-2025-preview-trump-tariffs-weak-macro-to-weigh-on-earnings-midcap-it-firms-to-outperform-11759484663918.html', datetime.datetime(2025, 10, 4, 6, 25, 32)), (49, 'Retail investors borrow big to stock up on India’s worst-performing blue chips', 'Retail investors are piling into blue chips like Jio Financial, TCS, and Tata Motors using margin loans, despite steep declines..Analysts warn mounting bets on underperforming stocks could trigger painful margin calls if prices keep falling.', 'https://www.livemint.com/market/stock-market-news/margin-trading-facility-retail-investors-borrowing-stock-market-investing-11759423170622.html', datetime.datetime(2025, 10, 4, 6, 0, 18)), (50, 'AI Computing, Chip Startup\\xa0Cerebras Withdraws IPO Registration', 'Cerebras Systems Inc. has filed to withdraw paperwork for an initial public offering more than a year after publicly unveiling plans.', 'https://www.livemint.com/market/ipo/ai-computing-chip-startup-cerebras-withdraws-ipo-registration-11759529769455.html', datetime.datetime(2025, 10, 4, 3, 46, 8)), (51, \"Bitcoin prices jump over 3% to $123,944. What's fueling the rally today?\", \"The cryptocurrency market benchmark digital asset, Bitcoin, saw its prices jump more than 3% to $123,944 on Friday, October 3, 2025. Here's what's fueling the rally today…\", 'https://www.livemint.com/market/cryptocurrency/bitcoin-prices-jump-over-3-to-123-944-whats-fueling-the-rally-today-11759526087092.html', datetime.datetime(2025, 10, 4, 3, 7, 22)), (52, 'TSX notches 2.4% weekly gain as Shopify hits a record high', 'CANADA-STOCKS/ (UPDATE 2):CANADA STOCKS-TSX notches 2.4% weekly gain as Shopify hits a record high', 'https://www.livemint.com/market/stock-market-news/tsx-notches-2-4-weekly-gain-as-shopify-hits-a-record-high-11759525825071.html', datetime.datetime(2025, 10, 4, 2, 40, 24)), (53, 'Tata Capital’s IPO Draws Goldman Sachs, Morgan Stanley Funds', 'Tata Capital Ltd.’s $1.7 billion initial public offering attracted anchor investors including funds managed by Morgan Stanley, Goldman Sachs Group Inc. and Nomura Holdings Inc. as well as domestic mutual funds and insurers.', 'https://www.livemint.com/market/ipo/tata-capital-s-ipo-draws-goldman-sachs-morgan-stanley-funds-11759519814542.html', datetime.datetime(2025, 10, 4, 1, 0, 14)), (54, 'Emerging-Market Volatility Eases as Shutdown Delays Key Data', 'Emerging-market currencies are on track for a modest weekly gain, as the absence of US data during the government shutdown damped volatility and clouded investors’ reading of the Federal Reserve’s policy path.', 'https://www.livemint.com/market/stock-market-news/emergingmarket-volatility-eases-as-shutdown-delays-key-data-11759516425471.html', datetime.datetime(2025, 10, 4, 0, 3, 44)), (55, 'Oil Advances as Trump’s Deadline for Hamas Revs Up Risk Premium', 'Oil climbed as US President Donald Trump’s warning of stark consequences if Hamas doesn’t agree to his plan to end the war in Gaza overshadowed an impending OPEC  decision on crude supplies.', 'https://www.livemint.com/market/commodities/oil-advances-as-trump-s-deadline-for-hamas-revs-up-risk-premium-11759516418378.html', datetime.datetime(2025, 10, 4, 0, 3, 37))]\n",
      "Total articles fetched today: 19\n"
     ]
    }
   ],
   "source": [
    "from db.fetch import fetch_table, fetch_todays_articles\n",
    "\n",
    "\n",
    "#fetch_table(\"news_articles\")\n",
    "print(fetch_todays_articles())\n",
    "length = len(fetch_todays_articles())\n",
    "print(f\"Total articles fetched today: {length}\")\n",
    "# fetch_table(\"news_sources\")"
   ]
  },
  {
   "cell_type": "code",
   "execution_count": 1,
   "id": "75e29006",
   "metadata": {},
   "outputs": [
    {
     "name": "stderr",
     "output_type": "stream",
     "text": [
      "c:\\Users\\91935\\vaish\\News-Trust-Agent\\db\\vector_db.py:34: LangChainDeprecationWarning: The class `HuggingFaceEmbeddings` was deprecated in LangChain 0.2.2 and will be removed in 1.0. An updated version of the class exists in the :class:`~langchain-huggingface package and should be used instead. To use it run `pip install -U :class:`~langchain-huggingface` and import as `from :class:`~langchain_huggingface import HuggingFaceEmbeddings``.\n",
      "  embeddings = HuggingFaceEmbeddings(model_name=\"sentence-transformers/all-MiniLM-L6-v2\")\n",
      "c:\\Users\\91935\\vaish\\News-Trust-Agent\\.venv\\Lib\\site-packages\\tqdm\\auto.py:21: TqdmWarning: IProgress not found. Please update jupyter and ipywidgets. See https://ipywidgets.readthedocs.io/en/stable/user_install.html\n",
      "  from .autonotebook import tqdm as notebook_tqdm\n"
     ]
    },
    {
     "name": "stdout",
     "output_type": "stream",
     "text": [
      "🔎 Retrieved relevant articles:\n",
      "  - Buy or sell: Sumeet Bagadia recommends three stocks to buy on Monday — 6 October 2025 (https://www.livemint.com/market/stock-market-news/buy-or-sell-sumeet-bagadia-recommends-three-stocks-to-buy-on-monday-6-october-2025-11759560096147.html)\n",
      "  - Stocks to buy under  ₹200: Mehul Kothari of Anand Rathi recommends three shares to buy or sell (https://www.livemint.com/market/stock-market-news/stocks-to-buy-under-rs-200-mehul-kothari-of-anand-rathi-recommends-three-shares-to-buy-or-sell-11759565607509.html)\n",
      "  - Stock market this week: Top gainers and losers that moved Nifty and Sensex (https://www.livemint.com/market/stock-market-news/weekend-wrap-october-3-stock-market-bse-nse-top-gainers-and-losers-mutual-funds-ipo-nfo-nifty50-elss-11759484827306.html)\n",
      "  - Tata Capital’s IPO Draws Goldman Sachs, Morgan Stanley Funds (https://www.livemint.com/market/ipo/tata-capital-s-ipo-draws-goldman-sachs-morgan-stanley-funds-11759519814542.html)\n",
      "  - Retail investors borrow big to stock up on India’s worst-performing blue chips (https://www.livemint.com/market/stock-market-news/margin-trading-facility-retail-investors-borrowing-stock-market-investing-11759423170622.html)\n"
     ]
    },
    {
     "data": {
      "text/plain": [
       "[Document(id='5062be9c-e268-4a36-8319-a907aa89f6b2', metadata={'article_id': 41, 'title': 'Buy or sell: Sumeet Bagadia recommends three stocks to buy on Monday — 6 October 2025', 'url': 'https://www.livemint.com/market/stock-market-news/buy-or-sell-sumeet-bagadia-recommends-three-stocks-to-buy-on-monday-6-october-2025-11759560096147.html', 'published_at': '2025-10-04 12:25:05'}, page_content='Buy or sell: Sumeet Bagadia recommends three stocks to buy on Monday — 6 October 2025\\n\\nBuy or sell: Sumeet Bagadia recommends three stocks to buy on Monday — Tata Steel, NBCC, BHEL'),\n",
       " Document(id='abadb20d-2f60-48a8-a297-f102cf995cba', metadata={'article_id': 40, 'title': 'Stocks to buy under  ₹200: Mehul Kothari of Anand Rathi recommends three shares to buy or sell', 'url': 'https://www.livemint.com/market/stock-market-news/stocks-to-buy-under-rs-200-mehul-kothari-of-anand-rathi-recommends-three-shares-to-buy-or-sell-11759565607509.html', 'published_at': '2025-10-04 13:51:15'}, page_content='Stocks to buy under  ₹200: Mehul Kothari of Anand Rathi recommends three shares to buy or sell\\n\\nStocks to buy under  ₹200: Mehul Kothari of Anand Rathi recommends three shares to buy or sell — SPIC, MRPL, and HFCL'),\n",
       " Document(id='02741740-ea61-4bd5-941c-02b0e093516a', metadata={'article_id': 42, 'title': 'Stock market this week: Top gainers and losers that moved Nifty and Sensex', 'url': 'https://www.livemint.com/market/stock-market-news/weekend-wrap-october-3-stock-market-bse-nse-top-gainers-and-losers-mutual-funds-ipo-nfo-nifty50-elss-11759484827306.html', 'published_at': '2025-10-04 11:45:31'}, page_content='Stock market this week: Top gainers and losers that moved Nifty and Sensex\\n\\nStock market: A comprehensive recap of the week ending 3 October 2025, highlighting the biggest market movers, top news events, and key performance trends that shaped investor sentiment.'),\n",
       " Document(id='43a09e67-7ece-4a31-90f3-078966c69fed', metadata={'article_id': 53, 'title': 'Tata Capital’s IPO Draws Goldman Sachs, Morgan Stanley Funds', 'url': 'https://www.livemint.com/market/ipo/tata-capital-s-ipo-draws-goldman-sachs-morgan-stanley-funds-11759519814542.html', 'published_at': '2025-10-04 01:00:14'}, page_content='Tata Capital’s IPO Draws Goldman Sachs, Morgan Stanley Funds\\n\\nTata Capital Ltd.’s $1.7 billion initial public offering attracted anchor investors including funds managed by Morgan Stanley, Goldman Sachs Group Inc. and Nomura Holdings Inc. as well as domestic mutual funds and insurers.'),\n",
       " Document(id='777476c6-4ccc-4dfc-9bdb-36fda6ee361c', metadata={'article_id': 49, 'title': 'Retail investors borrow big to stock up on India’s worst-performing blue chips', 'url': 'https://www.livemint.com/market/stock-market-news/margin-trading-facility-retail-investors-borrowing-stock-market-investing-11759423170622.html', 'published_at': '2025-10-04 06:00:18'}, page_content='Retail investors borrow big to stock up on India’s worst-performing blue chips\\n\\nRetail investors are piling into blue chips like Jio Financial, TCS, and Tata Motors using margin loans, despite steep declines..Analysts warn mounting bets on underperforming stocks could trigger painful margin calls if prices keep falling.')]"
      ]
     },
     "execution_count": 1,
     "metadata": {},
     "output_type": "execute_result"
    }
   ],
   "source": [
    "from agents.fetch_article import fetch_relevant_articles\n",
    "\n",
    "fetch_relevant_articles(\"give me top 5 stocks to buy\")"
   ]
  },
  {
   "cell_type": "code",
   "execution_count": null,
   "id": "ac0cdcca",
   "metadata": {},
   "outputs": [
    {
     "name": "stderr",
     "output_type": "stream",
     "text": [
      "c:\\Users\\91935\\vaish\\News-Trust-Agent\\.venv\\Lib\\site-packages\\tqdm\\auto.py:21: TqdmWarning: IProgress not found. Please update jupyter and ipywidgets. See https://ipywidgets.readthedocs.io/en/stable/user_install.html\n",
      "  from .autonotebook import tqdm as notebook_tqdm\n"
     ]
    },
    {
     "name": "stdout",
     "output_type": "stream",
     "text": [
      "✅ Dummy article inserted with ID 1\n",
      "----------------LLM RESPONSE----------:  ```json\n",
      "{\n",
      "\"category\": \"Seasonal\",\n",
      "\"confidence\": 0.95\n",
      "}\n",
      "```\n",
      "----------------article_id----------:  1\n",
      "----------------LLM category----------:  Seasonal\n",
      "----------------LLM confidence----------:  0.95\n",
      "(3,)\n",
      "3\n",
      "Seasonal\n",
      "0.95\n",
      "✅ Categorization Result: {'messages': [], 'article_id': 1, 'title': 'Heavy rains expected to boost umbrella sales in Mumbai', 'content': 'Analysts suggest seasonal demand will drive short-term stock gains for umbrella companies.'}\n"
     ]
    },
    {
     "data": {
      "text/html": [
       "\n",
       "<div>\n",
       "  <style scoped>\n",
       "  button {\n",
       "    border: none;\n",
       "    border-radius: 4px;\n",
       "    background-color: rgb(34, 114, 180);\n",
       "    font-family: -apple-system, \"system-ui\", \"Segoe UI\", Roboto, \"Helvetica Neue\", Arial;\n",
       "    font-size: 13px;\n",
       "    color: white;\n",
       "    margin-top: 8px;\n",
       "    margin-bottom: 8px;\n",
       "    padding: 8px 16px;\n",
       "    cursor: pointer;\n",
       "  }\n",
       "  button:hover {\n",
       "    background-color: rgb(66, 153, 224);\n",
       "  }\n",
       "  </style>\n",
       "  <button\n",
       "    onclick=\"\n",
       "        const display = this.nextElementSibling.style.display;\n",
       "        const isCollapsed = display === 'none';\n",
       "        this.nextElementSibling.style.display = isCollapsed ? null : 'none';\n",
       "\n",
       "        const verb = isCollapsed ? 'Collapse' : 'Expand';\n",
       "        this.innerText = `${verb} MLflow Trace`;\n",
       "    \"\n",
       "  >Collapse MLflow Trace</button>\n",
       "  <iframe\n",
       "    id=\"trace-renderer\"\n",
       "    style=\"width: 100%; height: 500px; border: none; resize: vertical;\"\n",
       "    src=\"http://127.0.0.1:5000/static-files/lib/notebook-trace-renderer/index.html?trace_id=tr-51ca0682d5d40e62a72a525ebed20c48&amp;experiment_id=926232657939640394&amp;version=3.2.0\"\n",
       "  />\n",
       "</div>\n"
      ],
      "text/plain": [
       "Trace(trace_id=tr-51ca0682d5d40e62a72a525ebed20c48)"
      ]
     },
     "metadata": {},
     "output_type": "display_data"
    }
   ],
   "source": [
    "from langgraph.graph import StateGraph, START, END, MessagesState\n",
    "from agents.fetch_article import fetch_relevant_articles\n",
    "from agents.categorizer import categorize_node\n",
    "\n",
    "\n",
    "class State(MessagesState):\n",
    "    article_id: int\n",
    "    title: str\n",
    "    content: str\n",
    "    summary: str = \"\"  # optional field\n",
    "\n",
    "\n",
    "if __name__ == \"__main__\":\n",
    "\n",
    "    # Step 2: build LangGraph workflow\n",
    "    graph = StateGraph(State)\n",
    "    graph.add_node(\"fetch_relevent_articles\", fetch_relevant_articles)\n",
    "    graph.add_node(\"categorize\", categorize_node)\n",
    "    graph.add_edge(START, \"categorize\")\n",
    "    graph.add_edge(\"categorize\", END)\n",
    "\n",
    "    graph = graph.compile()\n",
    "\n",
    "    # Step 3: run categorization\n",
    "    state = State(\n",
    "        article_id=article_id,\n",
    "        title=\"Heavy rains expected to boost umbrella sales in Mumbai\",\n",
    "        content=\"Analysts suggest seasonal demand will drive short-term stock gains for umbrella companies.\"\n",
    "    )\n",
    "\n",
    "    result = graph.invoke(state, start=\"categorize\")\n",
    "    print(\"✅ Categorization Result:\", result)\n"
   ]
  },
  {
   "cell_type": "code",
   "execution_count": 10,
   "id": "d86a3268",
   "metadata": {},
   "outputs": [],
   "source": [
    "from db.insertion import save_category\n",
    "\n",
    "save_category(101,\"Seasonal\", 0.23)"
   ]
  },
  {
   "cell_type": "code",
   "execution_count": 1,
   "id": "32fdb446",
   "metadata": {},
   "outputs": [
    {
     "name": "stderr",
     "output_type": "stream",
     "text": [
      "2025-10-03 17:12:39,320 - INFO - Using direct username/password for MLflow authentication\n",
      "2025-10-03 17:12:41,014 - INFO - Successfully retrieved auth token\n"
     ]
    },
    {
     "name": "stdout",
     "output_type": "stream",
     "text": [
      "----------------LLM RESPONSE----------:  {\n",
      "  \"category\": \"Seasonal\",\n",
      "  \"confidence\": 0.95\n",
      "}\n",
      "----------------article_id----------:  101\n",
      "----------------LLM category----------:  Seasonal\n",
      "----------------LLM confidence----------:  0.95\n",
      "(3,)\n",
      "3\n",
      "Seasonal\n",
      "0.95\n"
     ]
    },
    {
     "data": {
      "text/plain": [
       "{'category': 'Seasonal', 'confidence': 0.95}"
      ]
     },
     "execution_count": 1,
     "metadata": {},
     "output_type": "execute_result"
    },
    {
     "data": {
      "text/html": [
       "\n",
       "<div>\n",
       "  <style scoped>\n",
       "  button {\n",
       "    border: none;\n",
       "    border-radius: 4px;\n",
       "    background-color: rgb(34, 114, 180);\n",
       "    font-family: -apple-system, \"system-ui\", \"Segoe UI\", Roboto, \"Helvetica Neue\", Arial;\n",
       "    font-size: 13px;\n",
       "    color: white;\n",
       "    margin-top: 8px;\n",
       "    margin-bottom: 8px;\n",
       "    padding: 8px 16px;\n",
       "    cursor: pointer;\n",
       "  }\n",
       "  button:hover {\n",
       "    background-color: rgb(66, 153, 224);\n",
       "  }\n",
       "  </style>\n",
       "  <button\n",
       "    onclick=\"\n",
       "        const display = this.nextElementSibling.style.display;\n",
       "        const isCollapsed = display === 'none';\n",
       "        this.nextElementSibling.style.display = isCollapsed ? null : 'none';\n",
       "\n",
       "        const verb = isCollapsed ? 'Collapse' : 'Expand';\n",
       "        this.innerText = `${verb} MLflow Trace`;\n",
       "    \"\n",
       "  >Collapse MLflow Trace</button>\n",
       "  <iframe\n",
       "    id=\"trace-renderer\"\n",
       "    style=\"width: 100%; height: 500px; border: none; resize: vertical;\"\n",
       "    src=\"https://mlflowdb01.eng.sjc01.qualys.com/static-files/lib/notebook-trace-renderer/index.html?trace_id=tr-89d77065c5f7e6f163a101ff5ac6d1ec&amp;experiment_id=601&amp;version=3.2.0\"\n",
       "  />\n",
       "</div>\n"
      ],
      "text/plain": [
       "Trace(trace_id=tr-89d77065c5f7e6f163a101ff5ac6d1ec)"
      ]
     },
     "metadata": {},
     "output_type": "display_data"
    }
   ],
   "source": [
    "from agents.categorizer import categorize_node\n",
    "categorize_node()"
   ]
  },
  {
   "cell_type": "code",
   "execution_count": 1,
   "id": "3d2aff76",
   "metadata": {},
   "outputs": [
    {
     "data": {
      "text/plain": [
       "<mlflow.tracking.client.MlflowClient at 0x1b89f015fd0>"
      ]
     },
     "execution_count": 1,
     "metadata": {},
     "output_type": "execute_result"
    }
   ],
   "source": [
    "from mlflow_client import mlflow_client\n",
    "mlflow_client()\n"
   ]
  },
  {
   "cell_type": "code",
   "execution_count": 6,
   "id": "50af017d",
   "metadata": {},
   "outputs": [
    {
     "name": "stderr",
     "output_type": "stream",
     "text": [
      "2025/10/03 19:37:05 WARNING mlflow.utils.autologging_utils: MLflow sklearn autologging is known to be compatible with 1.3.1 <= scikit-learn <= 1.7.1, but the installed version is 1.7.2. If you encounter errors during autologging, try upgrading / downgrading scikit-learn to a compatible version, or try upgrading MLflow.\n",
      "2025/10/03 19:37:05 INFO mlflow.system_metrics.system_metrics_monitor: Skip logging GPU metrics. Set logger level to DEBUG for more details.\n",
      "2025/10/03 19:37:05 INFO mlflow.system_metrics.system_metrics_monitor: Started monitoring system metrics.\n",
      "2025/10/03 19:37:05 INFO mlflow.utils.autologging_utils: Created MLflow autologging run with ID 'b4413be9867e401ea3154234f3114006', which will track hyperparameters, performance metrics, model artifacts, and lineage information for the current sklearn workflow\n",
      "2025/10/03 19:37:13 WARNING mlflow.utils.environment: Failed to resolve installed pip version. ``pip`` will be added to conda.yaml environment spec without a version specifier.\n",
      "2025/10/03 19:37:14 INFO mlflow.system_metrics.system_metrics_monitor: Stopping system metrics monitoring...\n",
      "2025/10/03 19:37:14 INFO mlflow.system_metrics.system_metrics_monitor: Successfully terminated system metrics monitoring!\n"
     ]
    },
    {
     "name": "stdout",
     "output_type": "stream",
     "text": [
      "🏃 View run grandiose-trout-757 at: http://127.0.0.1:5000/#/experiments/926232657939640394/runs/b4413be9867e401ea3154234f3114006\n",
      "🧪 View experiment at: http://127.0.0.1:5000/#/experiments/926232657939640394\n"
     ]
    }
   ],
   "source": [
    "import mlflow\n",
    "import mlflow.sklearn\n",
    "from sklearn.linear_model import LinearRegression\n",
    "from sklearn.datasets import make_regression\n",
    "from sklearn.model_selection import train_test_split\n",
    "from sklearn.metrics import mean_squared_error\n",
    "from mlflow_client import mlflow_client\n",
    "\n",
    "mlflow_client()\n",
    "\n",
    "mlflow.enable_system_metrics_logging()\n",
    "\n",
    "mlflow.sklearn.autolog()\n",
    "\n",
    "# Generate toy dataset\n",
    "X, y = make_regression(n_samples=100, n_features=2, noise=0.1, random_state=42)\n",
    "X_train, X_test, y_train, y_test = train_test_split(X, y, test_size=0.2, random_state=42)\n",
    "\n",
    "# Train model\n",
    "model = LinearRegression()\n",
    "model.fit(X_train, y_train)\n",
    "\n",
    "# Evaluate\n",
    "y_pred = model.predict(X_test)\n",
    "mse = mean_squared_error(y_test, y_pred)\n",
    "\n",
    "# mlflow.log_metric(\"mse\", mse)\n",
    "\n",
    "\n",
    "# with mlflow.start_run():\n",
    "\n",
    "#     # Log parameters\n",
    "#     mlflow.log_param(\"fit_intercept\", model.fit_intercept)\n",
    "\n",
    "#     # Log metric\n",
    "#     mlflow.log_metric(\"mse\", mse)\n",
    "\n",
    "#     # Log the model\n",
    "#     mlflow.sklearn.log_model(model, artifact_path=\"model\")\n",
    "\n",
    "#     print(\"Run ID:\", mlflow.active_run().info.run_id)\n",
    "\n",
    "# mlflow.end_run()\n",
    "\n"
   ]
  },
  {
   "cell_type": "code",
   "execution_count": 5,
   "id": "acbc3618",
   "metadata": {},
   "outputs": [
    {
     "name": "stdout",
     "output_type": "stream",
     "text": [
      "🏃 View run gifted-asp-497 at: http://127.0.0.1:5000/#/experiments/926232657939640394/runs/3647338ba5794fef98edbfe323639b31\n",
      "🧪 View experiment at: http://127.0.0.1:5000/#/experiments/926232657939640394\n"
     ]
    }
   ],
   "source": [
    "mlflow.end_run()"
   ]
  },
  {
   "cell_type": "code",
   "execution_count": null,
   "id": "6cb9cd34",
   "metadata": {},
   "outputs": [],
   "source": []
  }
 ],
 "metadata": {
  "kernelspec": {
   "display_name": "News-Trust-Agent",
   "language": "python",
   "name": "python3"
  },
  "language_info": {
   "codemirror_mode": {
    "name": "ipython",
    "version": 3
   },
   "file_extension": ".py",
   "mimetype": "text/x-python",
   "name": "python",
   "nbconvert_exporter": "python",
   "pygments_lexer": "ipython3",
   "version": "3.11.13"
  }
 },
 "nbformat": 4,
 "nbformat_minor": 5
}
