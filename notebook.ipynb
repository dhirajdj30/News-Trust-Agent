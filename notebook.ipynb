{
 "cells": [
  {
   "cell_type": "code",
   "execution_count": 2,
   "id": "d72bfb1d",
   "metadata": {},
   "outputs": [
    {
     "data": {
      "text/plain": [
       "[(1,\n",
       "  1,\n",
       "  'Heavy rains expected to boost umbrella sales in Mumbai',\n",
       "  'Analysts suggest seasonal demand will drive short-term stock gains for umbrella companies.',\n",
       "  'https://dummynews.com/umbrella-sales',\n",
       "  None,\n",
       "  3,\n",
       "  0.95,\n",
       "  datetime.datetime(2025, 10, 4, 1, 58, 7, 164218))]"
      ]
     },
     "execution_count": 2,
     "metadata": {},
     "output_type": "execute_result"
    }
   ],
   "source": [
    "from db.fetch import fetch_table\n",
    "\n",
    "\n",
    "fetch_table(\"news_articles\")"
   ]
  },
  {
   "cell_type": "code",
   "execution_count": 1,
   "id": "ac0cdcca",
   "metadata": {},
   "outputs": [
    {
     "name": "stderr",
     "output_type": "stream",
     "text": [
      "c:\\Users\\91935\\vaish\\News-Trust-Agent\\.venv\\Lib\\site-packages\\tqdm\\auto.py:21: TqdmWarning: IProgress not found. Please update jupyter and ipywidgets. See https://ipywidgets.readthedocs.io/en/stable/user_install.html\n",
      "  from .autonotebook import tqdm as notebook_tqdm\n"
     ]
    },
    {
     "name": "stdout",
     "output_type": "stream",
     "text": [
      "✅ Dummy article inserted with ID 1\n",
      "----------------LLM RESPONSE----------:  ```json\n",
      "{\n",
      "\"category\": \"Seasonal\",\n",
      "\"confidence\": 0.95\n",
      "}\n",
      "```\n",
      "----------------article_id----------:  1\n",
      "----------------LLM category----------:  Seasonal\n",
      "----------------LLM confidence----------:  0.95\n",
      "(3,)\n",
      "3\n",
      "Seasonal\n",
      "0.95\n",
      "✅ Categorization Result: {'messages': [], 'article_id': 1, 'title': 'Heavy rains expected to boost umbrella sales in Mumbai', 'content': 'Analysts suggest seasonal demand will drive short-term stock gains for umbrella companies.'}\n"
     ]
    },
    {
     "data": {
      "text/html": [
       "\n",
       "<div>\n",
       "  <style scoped>\n",
       "  button {\n",
       "    border: none;\n",
       "    border-radius: 4px;\n",
       "    background-color: rgb(34, 114, 180);\n",
       "    font-family: -apple-system, \"system-ui\", \"Segoe UI\", Roboto, \"Helvetica Neue\", Arial;\n",
       "    font-size: 13px;\n",
       "    color: white;\n",
       "    margin-top: 8px;\n",
       "    margin-bottom: 8px;\n",
       "    padding: 8px 16px;\n",
       "    cursor: pointer;\n",
       "  }\n",
       "  button:hover {\n",
       "    background-color: rgb(66, 153, 224);\n",
       "  }\n",
       "  </style>\n",
       "  <button\n",
       "    onclick=\"\n",
       "        const display = this.nextElementSibling.style.display;\n",
       "        const isCollapsed = display === 'none';\n",
       "        this.nextElementSibling.style.display = isCollapsed ? null : 'none';\n",
       "\n",
       "        const verb = isCollapsed ? 'Collapse' : 'Expand';\n",
       "        this.innerText = `${verb} MLflow Trace`;\n",
       "    \"\n",
       "  >Collapse MLflow Trace</button>\n",
       "  <iframe\n",
       "    id=\"trace-renderer\"\n",
       "    style=\"width: 100%; height: 500px; border: none; resize: vertical;\"\n",
       "    src=\"http://127.0.0.1:5000/static-files/lib/notebook-trace-renderer/index.html?trace_id=tr-51ca0682d5d40e62a72a525ebed20c48&amp;experiment_id=926232657939640394&amp;version=3.2.0\"\n",
       "  />\n",
       "</div>\n"
      ],
      "text/plain": [
       "Trace(trace_id=tr-51ca0682d5d40e62a72a525ebed20c48)"
      ]
     },
     "metadata": {},
     "output_type": "display_data"
    }
   ],
   "source": [
    "from langgraph.graph import StateGraph, START, END, MessagesState\n",
    "from db.insertion import insert_dummy_article\n",
    "from agents.categorizer import categorize_node\n",
    "\n",
    "\n",
    "class State(MessagesState):\n",
    "    article_id: int\n",
    "    title: str\n",
    "    content: str\n",
    "    summary: str = \"\"  # optional field\n",
    "\n",
    "\n",
    "if __name__ == \"__main__\":\n",
    "\n",
    "    # Step 1: insert dummy article\n",
    "    article_id = insert_dummy_article()\n",
    "    # article_id = 401\n",
    "\n",
    "    # Step 2: build LangGraph workflow\n",
    "    graph = StateGraph(State)\n",
    "    graph.add_node(\"categorize\", categorize_node)\n",
    "    graph.add_edge(START, \"categorize\")\n",
    "    graph.add_edge(\"categorize\", END)\n",
    "\n",
    "    graph = graph.compile()\n",
    "\n",
    "    # Step 3: run categorization\n",
    "    state = State(\n",
    "        article_id=article_id,\n",
    "        title=\"Heavy rains expected to boost umbrella sales in Mumbai\",\n",
    "        content=\"Analysts suggest seasonal demand will drive short-term stock gains for umbrella companies.\"\n",
    "    )\n",
    "\n",
    "    result = graph.invoke(state, start=\"categorize\")\n",
    "    print(\"✅ Categorization Result:\", result)\n"
   ]
  },
  {
   "cell_type": "code",
   "execution_count": 10,
   "id": "d86a3268",
   "metadata": {},
   "outputs": [],
   "source": [
    "from db.insertion import save_category\n",
    "\n",
    "save_category(101,\"Seasonal\", 0.23)"
   ]
  },
  {
   "cell_type": "code",
   "execution_count": 1,
   "id": "32fdb446",
   "metadata": {},
   "outputs": [
    {
     "name": "stderr",
     "output_type": "stream",
     "text": [
      "2025-10-03 17:12:39,320 - INFO - Using direct username/password for MLflow authentication\n",
      "2025-10-03 17:12:41,014 - INFO - Successfully retrieved auth token\n"
     ]
    },
    {
     "name": "stdout",
     "output_type": "stream",
     "text": [
      "----------------LLM RESPONSE----------:  {\n",
      "  \"category\": \"Seasonal\",\n",
      "  \"confidence\": 0.95\n",
      "}\n",
      "----------------article_id----------:  101\n",
      "----------------LLM category----------:  Seasonal\n",
      "----------------LLM confidence----------:  0.95\n",
      "(3,)\n",
      "3\n",
      "Seasonal\n",
      "0.95\n"
     ]
    },
    {
     "data": {
      "text/plain": [
       "{'category': 'Seasonal', 'confidence': 0.95}"
      ]
     },
     "execution_count": 1,
     "metadata": {},
     "output_type": "execute_result"
    },
    {
     "data": {
      "text/html": [
       "\n",
       "<div>\n",
       "  <style scoped>\n",
       "  button {\n",
       "    border: none;\n",
       "    border-radius: 4px;\n",
       "    background-color: rgb(34, 114, 180);\n",
       "    font-family: -apple-system, \"system-ui\", \"Segoe UI\", Roboto, \"Helvetica Neue\", Arial;\n",
       "    font-size: 13px;\n",
       "    color: white;\n",
       "    margin-top: 8px;\n",
       "    margin-bottom: 8px;\n",
       "    padding: 8px 16px;\n",
       "    cursor: pointer;\n",
       "  }\n",
       "  button:hover {\n",
       "    background-color: rgb(66, 153, 224);\n",
       "  }\n",
       "  </style>\n",
       "  <button\n",
       "    onclick=\"\n",
       "        const display = this.nextElementSibling.style.display;\n",
       "        const isCollapsed = display === 'none';\n",
       "        this.nextElementSibling.style.display = isCollapsed ? null : 'none';\n",
       "\n",
       "        const verb = isCollapsed ? 'Collapse' : 'Expand';\n",
       "        this.innerText = `${verb} MLflow Trace`;\n",
       "    \"\n",
       "  >Collapse MLflow Trace</button>\n",
       "  <iframe\n",
       "    id=\"trace-renderer\"\n",
       "    style=\"width: 100%; height: 500px; border: none; resize: vertical;\"\n",
       "    src=\"https://mlflowdb01.eng.sjc01.qualys.com/static-files/lib/notebook-trace-renderer/index.html?trace_id=tr-89d77065c5f7e6f163a101ff5ac6d1ec&amp;experiment_id=601&amp;version=3.2.0\"\n",
       "  />\n",
       "</div>\n"
      ],
      "text/plain": [
       "Trace(trace_id=tr-89d77065c5f7e6f163a101ff5ac6d1ec)"
      ]
     },
     "metadata": {},
     "output_type": "display_data"
    }
   ],
   "source": [
    "from agents.categorizer import categorize_node\n",
    "categorize_node()"
   ]
  },
  {
   "cell_type": "code",
   "execution_count": 1,
   "id": "3d2aff76",
   "metadata": {},
   "outputs": [
    {
     "data": {
      "text/plain": [
       "<mlflow.tracking.client.MlflowClient at 0x1b89f015fd0>"
      ]
     },
     "execution_count": 1,
     "metadata": {},
     "output_type": "execute_result"
    }
   ],
   "source": [
    "from mlflow_client import mlflow_client\n",
    "mlflow_client()\n"
   ]
  },
  {
   "cell_type": "code",
   "execution_count": 6,
   "id": "50af017d",
   "metadata": {},
   "outputs": [
    {
     "name": "stderr",
     "output_type": "stream",
     "text": [
      "2025/10/03 19:37:05 WARNING mlflow.utils.autologging_utils: MLflow sklearn autologging is known to be compatible with 1.3.1 <= scikit-learn <= 1.7.1, but the installed version is 1.7.2. If you encounter errors during autologging, try upgrading / downgrading scikit-learn to a compatible version, or try upgrading MLflow.\n",
      "2025/10/03 19:37:05 INFO mlflow.system_metrics.system_metrics_monitor: Skip logging GPU metrics. Set logger level to DEBUG for more details.\n",
      "2025/10/03 19:37:05 INFO mlflow.system_metrics.system_metrics_monitor: Started monitoring system metrics.\n",
      "2025/10/03 19:37:05 INFO mlflow.utils.autologging_utils: Created MLflow autologging run with ID 'b4413be9867e401ea3154234f3114006', which will track hyperparameters, performance metrics, model artifacts, and lineage information for the current sklearn workflow\n",
      "2025/10/03 19:37:13 WARNING mlflow.utils.environment: Failed to resolve installed pip version. ``pip`` will be added to conda.yaml environment spec without a version specifier.\n",
      "2025/10/03 19:37:14 INFO mlflow.system_metrics.system_metrics_monitor: Stopping system metrics monitoring...\n",
      "2025/10/03 19:37:14 INFO mlflow.system_metrics.system_metrics_monitor: Successfully terminated system metrics monitoring!\n"
     ]
    },
    {
     "name": "stdout",
     "output_type": "stream",
     "text": [
      "🏃 View run grandiose-trout-757 at: http://127.0.0.1:5000/#/experiments/926232657939640394/runs/b4413be9867e401ea3154234f3114006\n",
      "🧪 View experiment at: http://127.0.0.1:5000/#/experiments/926232657939640394\n"
     ]
    }
   ],
   "source": [
    "import mlflow\n",
    "import mlflow.sklearn\n",
    "from sklearn.linear_model import LinearRegression\n",
    "from sklearn.datasets import make_regression\n",
    "from sklearn.model_selection import train_test_split\n",
    "from sklearn.metrics import mean_squared_error\n",
    "from mlflow_client import mlflow_client\n",
    "\n",
    "mlflow_client()\n",
    "\n",
    "mlflow.enable_system_metrics_logging()\n",
    "\n",
    "mlflow.sklearn.autolog()\n",
    "\n",
    "# Generate toy dataset\n",
    "X, y = make_regression(n_samples=100, n_features=2, noise=0.1, random_state=42)\n",
    "X_train, X_test, y_train, y_test = train_test_split(X, y, test_size=0.2, random_state=42)\n",
    "\n",
    "# Train model\n",
    "model = LinearRegression()\n",
    "model.fit(X_train, y_train)\n",
    "\n",
    "# Evaluate\n",
    "y_pred = model.predict(X_test)\n",
    "mse = mean_squared_error(y_test, y_pred)\n",
    "\n",
    "# mlflow.log_metric(\"mse\", mse)\n",
    "\n",
    "\n",
    "# with mlflow.start_run():\n",
    "\n",
    "#     # Log parameters\n",
    "#     mlflow.log_param(\"fit_intercept\", model.fit_intercept)\n",
    "\n",
    "#     # Log metric\n",
    "#     mlflow.log_metric(\"mse\", mse)\n",
    "\n",
    "#     # Log the model\n",
    "#     mlflow.sklearn.log_model(model, artifact_path=\"model\")\n",
    "\n",
    "#     print(\"Run ID:\", mlflow.active_run().info.run_id)\n",
    "\n",
    "# mlflow.end_run()\n",
    "\n"
   ]
  },
  {
   "cell_type": "code",
   "execution_count": 5,
   "id": "acbc3618",
   "metadata": {},
   "outputs": [
    {
     "name": "stdout",
     "output_type": "stream",
     "text": [
      "🏃 View run gifted-asp-497 at: http://127.0.0.1:5000/#/experiments/926232657939640394/runs/3647338ba5794fef98edbfe323639b31\n",
      "🧪 View experiment at: http://127.0.0.1:5000/#/experiments/926232657939640394\n"
     ]
    }
   ],
   "source": [
    "mlflow.end_run()"
   ]
  },
  {
   "cell_type": "code",
   "execution_count": null,
   "id": "6cb9cd34",
   "metadata": {},
   "outputs": [],
   "source": []
  }
 ],
 "metadata": {
  "kernelspec": {
   "display_name": "News-Trust-Agent",
   "language": "python",
   "name": "python3"
  },
  "language_info": {
   "codemirror_mode": {
    "name": "ipython",
    "version": 3
   },
   "file_extension": ".py",
   "mimetype": "text/x-python",
   "name": "python",
   "nbconvert_exporter": "python",
   "pygments_lexer": "ipython3",
   "version": "3.11.13"
  }
 },
 "nbformat": 4,
 "nbformat_minor": 5
}
