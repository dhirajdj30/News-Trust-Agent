{
 "cells": [
  {
   "cell_type": "code",
   "execution_count": 11,
   "id": "d72bfb1d",
   "metadata": {},
   "outputs": [
    {
     "data": {
      "text/plain": [
       "[(1,\n",
       "  1,\n",
       "  'Heavy rains expected to boost umbrella sales in Mumbai',\n",
       "  'Analysts suggest seasonal demand will drive short-term stock gains for umbrella companies.',\n",
       "  'https://dummynews.com/umbrella-sales',\n",
       "  None,\n",
       "  None,\n",
       "  None,\n",
       "  datetime.datetime(2025, 10, 3, 10, 26, 37, 277915)),\n",
       " (101,\n",
       "  1,\n",
       "  'Heavy rains expected to boost umbrella sales in Mumbai',\n",
       "  'Analysts suggest seasonal demand will drive short-term stock gains for umbrella companies.',\n",
       "  'https://dummynews.com/umbrella-sales',\n",
       "  None,\n",
       "  3,\n",
       "  0.23,\n",
       "  datetime.datetime(2025, 10, 3, 10, 30, 47, 356111)),\n",
       " (401,\n",
       "  1,\n",
       "  'Heavy rains expected to boost umbrella sales in Mumbai',\n",
       "  'Analysts suggest seasonal demand will drive short-term stock gains for umbrella companies.',\n",
       "  'https://dummynews.com/umbrella-sales',\n",
       "  None,\n",
       "  101,\n",
       "  0.0,\n",
       "  datetime.datetime(2025, 10, 3, 11, 16, 25, 73088)),\n",
       " (301,\n",
       "  1,\n",
       "  'Heavy rains expected to boost umbrella sales in Mumbai',\n",
       "  'Analysts suggest seasonal demand will drive short-term stock gains for umbrella companies.',\n",
       "  'https://dummynews.com/umbrella-sales',\n",
       "  None,\n",
       "  101,\n",
       "  0.0,\n",
       "  datetime.datetime(2025, 10, 3, 10, 37, 31, 289935)),\n",
       " (201,\n",
       "  1,\n",
       "  'Heavy rains expected to boost umbrella sales in Mumbai',\n",
       "  'Analysts suggest seasonal demand will drive short-term stock gains for umbrella companies.',\n",
       "  'https://dummynews.com/umbrella-sales',\n",
       "  None,\n",
       "  None,\n",
       "  None,\n",
       "  datetime.datetime(2025, 10, 3, 10, 32, 50, 948435))]"
      ]
     },
     "execution_count": 11,
     "metadata": {},
     "output_type": "execute_result"
    }
   ],
   "source": [
    "from db.fetch import fetch_table\n",
    "\n",
    "\n",
    "fetch_table(\"news_articles\")"
   ]
  },
  {
   "cell_type": "code",
   "execution_count": null,
   "id": "ac0cdcca",
   "metadata": {},
   "outputs": [
    {
     "name": "stdout",
     "output_type": "stream",
     "text": [
      "✅ Dummy article inserted with ID 401\n",
      "✅ Categorization Result: {'messages': [], 'article_id': 401, 'title': 'Heavy rains expected to boost umbrella sales in Mumbai', 'content': 'Analysts suggest seasonal demand will drive short-term stock gains for umbrella companies.'}\n"
     ]
    },
    {
     "data": {
      "text/html": [
       "\n",
       "<div>\n",
       "  <style scoped>\n",
       "  button {\n",
       "    border: none;\n",
       "    border-radius: 4px;\n",
       "    background-color: rgb(34, 114, 180);\n",
       "    font-family: -apple-system, \"system-ui\", \"Segoe UI\", Roboto, \"Helvetica Neue\", Arial;\n",
       "    font-size: 13px;\n",
       "    color: white;\n",
       "    margin-top: 8px;\n",
       "    margin-bottom: 8px;\n",
       "    padding: 8px 16px;\n",
       "    cursor: pointer;\n",
       "  }\n",
       "  button:hover {\n",
       "    background-color: rgb(66, 153, 224);\n",
       "  }\n",
       "  </style>\n",
       "  <button\n",
       "    onclick=\"\n",
       "        const display = this.nextElementSibling.style.display;\n",
       "        const isCollapsed = display === 'none';\n",
       "        this.nextElementSibling.style.display = isCollapsed ? null : 'none';\n",
       "\n",
       "        const verb = isCollapsed ? 'Collapse' : 'Expand';\n",
       "        this.innerText = `${verb} MLflow Trace`;\n",
       "    \"\n",
       "  >Collapse MLflow Trace</button>\n",
       "  <iframe\n",
       "    id=\"trace-renderer\"\n",
       "    style=\"width: 100%; height: 500px; border: none; resize: vertical;\"\n",
       "    src=\"https://mlflowdb01.eng.sjc01.qualys.com/static-files/lib/notebook-trace-renderer/index.html?trace_id=tr-e1dd18e42c25536d1421c8afa8112333&amp;experiment_id=601&amp;version=3.2.0\"\n",
       "  />\n",
       "</div>\n"
      ],
      "text/plain": [
       "Trace(trace_id=tr-e1dd18e42c25536d1421c8afa8112333)"
      ]
     },
     "metadata": {},
     "output_type": "display_data"
    }
   ],
   "source": [
    "from langgraph.graph import StateGraph, START, END, MessagesState\n",
    "from db.insertion import insert_dummy_article\n",
    "from agents.categorizer import categorize_node\n",
    "\n",
    "\n",
    "class State(MessagesState):\n",
    "    article_id: int\n",
    "    title: str\n",
    "    content: str\n",
    "    summary: str = \"\"  # optional field\n",
    "\n",
    "\n",
    "if __name__ == \"__main__\":\n",
    "\n",
    "    # Step 1: insert dummy article\n",
    "    # article_id = insert_dummy_article()\n",
    "    article_id = 401\n",
    "\n",
    "    # Step 2: build LangGraph workflow\n",
    "    graph = StateGraph(State)\n",
    "    graph.add_node(\"categorize\", categorize_node)\n",
    "    graph.add_edge(START, \"categorize\")\n",
    "    graph.add_edge(\"categorize\", END)\n",
    "\n",
    "    graph = graph.compile()\n",
    "\n",
    "    # Step 3: run categorization\n",
    "    state = State(\n",
    "        article_id=article_id,\n",
    "        title=\"Heavy rains expected to boost umbrella sales in Mumbai\",\n",
    "        content=\"Analysts suggest seasonal demand will drive short-term stock gains for umbrella companies.\"\n",
    "    )\n",
    "\n",
    "    result = graph.invoke(state, start=\"categorize\")\n",
    "    print(\"✅ Categorization Result:\", result)\n"
   ]
  },
  {
   "cell_type": "code",
   "execution_count": 10,
   "id": "d86a3268",
   "metadata": {},
   "outputs": [],
   "source": [
    "from db.insertion import save_category\n",
    "\n",
    "save_category(101,\"Seasonal\", 0.23)"
   ]
  },
  {
   "cell_type": "code",
   "execution_count": 1,
   "id": "32fdb446",
   "metadata": {},
   "outputs": [
    {
     "name": "stderr",
     "output_type": "stream",
     "text": [
      "2025-10-03 17:12:39,320 - INFO - Using direct username/password for MLflow authentication\n",
      "2025-10-03 17:12:41,014 - INFO - Successfully retrieved auth token\n"
     ]
    },
    {
     "name": "stdout",
     "output_type": "stream",
     "text": [
      "----------------LLM RESPONSE----------:  {\n",
      "  \"category\": \"Seasonal\",\n",
      "  \"confidence\": 0.95\n",
      "}\n",
      "----------------article_id----------:  101\n",
      "----------------LLM category----------:  Seasonal\n",
      "----------------LLM confidence----------:  0.95\n",
      "(3,)\n",
      "3\n",
      "Seasonal\n",
      "0.95\n"
     ]
    },
    {
     "data": {
      "text/plain": [
       "{'category': 'Seasonal', 'confidence': 0.95}"
      ]
     },
     "execution_count": 1,
     "metadata": {},
     "output_type": "execute_result"
    },
    {
     "data": {
      "text/html": [
       "\n",
       "<div>\n",
       "  <style scoped>\n",
       "  button {\n",
       "    border: none;\n",
       "    border-radius: 4px;\n",
       "    background-color: rgb(34, 114, 180);\n",
       "    font-family: -apple-system, \"system-ui\", \"Segoe UI\", Roboto, \"Helvetica Neue\", Arial;\n",
       "    font-size: 13px;\n",
       "    color: white;\n",
       "    margin-top: 8px;\n",
       "    margin-bottom: 8px;\n",
       "    padding: 8px 16px;\n",
       "    cursor: pointer;\n",
       "  }\n",
       "  button:hover {\n",
       "    background-color: rgb(66, 153, 224);\n",
       "  }\n",
       "  </style>\n",
       "  <button\n",
       "    onclick=\"\n",
       "        const display = this.nextElementSibling.style.display;\n",
       "        const isCollapsed = display === 'none';\n",
       "        this.nextElementSibling.style.display = isCollapsed ? null : 'none';\n",
       "\n",
       "        const verb = isCollapsed ? 'Collapse' : 'Expand';\n",
       "        this.innerText = `${verb} MLflow Trace`;\n",
       "    \"\n",
       "  >Collapse MLflow Trace</button>\n",
       "  <iframe\n",
       "    id=\"trace-renderer\"\n",
       "    style=\"width: 100%; height: 500px; border: none; resize: vertical;\"\n",
       "    src=\"https://mlflowdb01.eng.sjc01.qualys.com/static-files/lib/notebook-trace-renderer/index.html?trace_id=tr-89d77065c5f7e6f163a101ff5ac6d1ec&amp;experiment_id=601&amp;version=3.2.0\"\n",
       "  />\n",
       "</div>\n"
      ],
      "text/plain": [
       "Trace(trace_id=tr-89d77065c5f7e6f163a101ff5ac6d1ec)"
      ]
     },
     "metadata": {},
     "output_type": "display_data"
    }
   ],
   "source": [
    "from agents.categorizer import categorize_node\n",
    "categorize_node()"
   ]
  },
  {
   "cell_type": "code",
   "execution_count": null,
   "id": "3d2aff76",
   "metadata": {},
   "outputs": [],
   "source": []
  }
 ],
 "metadata": {
  "kernelspec": {
   "display_name": "news-trust-agent",
   "language": "python",
   "name": "python3"
  },
  "language_info": {
   "codemirror_mode": {
    "name": "ipython",
    "version": 3
   },
   "file_extension": ".py",
   "mimetype": "text/x-python",
   "name": "python",
   "nbconvert_exporter": "python",
   "pygments_lexer": "ipython3",
   "version": "3.11.6"
  }
 },
 "nbformat": 4,
 "nbformat_minor": 5
}
